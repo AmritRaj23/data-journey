{
 "cells": [
  {
   "cell_type": "markdown",
   "id": "ce4a8d64-28a6-40ce-8f0e-f1674576670f",
   "metadata": {},
   "source": [
    "### *Please note that this notebook should be run in a VertexAI managed notebook instance to support the BigQuery integration syntax.*"
   ]
  },
  {
   "cell_type": "markdown",
   "id": "e2c5f8c0-2870-46a4-a175-88ace91261ed",
   "metadata": {},
   "source": [
    "# ELT in BigQuery\n",
    "\n",
    "We saw how to process Data in Apache Beam & Dataflow following ETL (Extract-Tranform-Load) principles.\n",
    "\n",
    "Next we are taking a look at ETL (Extract Transform Load) using the BigQuery Data Warehouse.\n",
    "\n",
    "ELT trades off slower speed of on demand insights for lower storage cost. Typically ELT makes sense when analyzing large data volumes."
   ]
  },
  {
   "cell_type": "markdown",
   "id": "3fccaa10-fe0a-4a11-aaff-e8bce4bb48c1",
   "metadata": {},
   "source": [
    "## Create BigQuery Dataset\n",
    "\n",
    "To kick things off we create a BigQuery dataset to accomodate our data."
   ]
  },
  {
   "cell_type": "code",
   "execution_count": 1,
   "id": "56a01fa5-61f0-4f8d-9cf0-223b4a167499",
   "metadata": {},
   "outputs": [
    {
     "name": "stdout",
     "output_type": "stream",
     "text": [
      "Creation failed. Dataset may already exist.\n"
     ]
    }
   ],
   "source": [
    "from google.cloud import bigquery\n",
    "\n",
    "try: \n",
    "    client = bigquery.Client() # Constructing BQ client object.\n",
    "\n",
    "    dataset_id = \"{}.data_journey_elt\".format(client.project) # Defining dataset ID.\n",
    "    dataset = bigquery.Dataset(dataset_id)\n",
    "\n",
    "    dataset.location = \"US\" # Defining dataset location\n",
    "\n",
    "    dataset = client.create_dataset(dataset, timeout=30)  # Creating dataset by API requets.\n",
    "    print(\"Created dataset {}.{}\".format(client.project, dataset.dataset_id))\n",
    "except: \n",
    "    print('Creation failed. Dataset may already exist.')"
   ]
  },
  {
   "cell_type": "markdown",
   "id": "d6ab9c12-0aa1-463c-82ca-8d068a2edcc1",
   "metadata": {},
   "source": [
    "Next, we access the public firebase dataset using the BigQuery integration.\n",
    "\n",
    "We will explore App User behaviour to demonstrate the ELT concepts. The Extraction step is in this example already finished as the raw data is available for us to analyze."
   ]
  },
  {
   "cell_type": "markdown",
   "id": "b509b941-1d89-460e-a235-52ed29448ed5",
   "metadata": {},
   "source": [
    "#@bigquery\n",
    "SELECT *\n",
    "FROM `firebase-public-project.analytics_153293282.events_*`\n",
    "LIMIT 3"
   ]
  },
  {
   "cell_type": "markdown",
   "id": "0bb66d7a-4435-4d3b-a09d-4f4a212c35d7",
   "metadata": {},
   "source": [
    "## Transformation & Feature Engineering Using BigQuery Views\n",
    "\n",
    "[BigQuery Views](https://cloud.google.com/bigquery/docs/views-intro) allow mapping transformations over a dataset without processing the actual result. "
   ]
  },
  {
   "cell_type": "markdown",
   "id": "b4765c17-f978-4235-b755-c015d14ee2d5",
   "metadata": {},
   "source": [
    "### View #1\n",
    "\n",
    "To keep track of users that churned we create boolean features for 'churn' & 'bounce'."
   ]
  },
  {
   "cell_type": "markdown",
   "id": "07002380-19ed-4137-8fc6-efb797b4bb35",
   "metadata": {},
   "source": [
    "#@bigquery\n",
    "CREATE OR REPLACE VIEW data_journey_elt.user_returninginfo AS\n",
    "WITH firstlasttouch AS (\n",
    "    SELECT\n",
    "      user_pseudo_id,\n",
    "      MIN(event_timestamp) AS user_first_engagement,\n",
    "      MAX(event_timestamp) AS user_last_engagement\n",
    "    FROM\n",
    "      `firebase-public-project.analytics_153293282.events_*`\n",
    "    WHERE event_name=\"user_engagement\"\n",
    "    GROUP BY\n",
    "      user_pseudo_id\n",
    "\n",
    "  )\n",
    "  SELECT\n",
    "    user_pseudo_id,\n",
    "    user_first_engagement,\n",
    "    user_last_engagement,\n",
    "    EXTRACT(MONTH from TIMESTAMP_MICROS(user_first_engagement)) as month,\n",
    "    EXTRACT(DAYOFYEAR from TIMESTAMP_MICROS(user_first_engagement)) as julianday,\n",
    "    EXTRACT(DAYOFWEEK from TIMESTAMP_MICROS(user_first_engagement)) as dayofweek,\n",
    "\n",
    "    (user_first_engagement + 86400000000) AS ts_24hr_after_first_engagement,\n",
    "\n",
    "IF (user_last_engagement < (user_first_engagement + 86400000000),\n",
    "    1,\n",
    "    0 ) AS churned,\n",
    "\n",
    "IF (user_last_engagement <= (user_first_engagement + 600000000),\n",
    "    1,\n",
    "    0 ) AS bounced,\n",
    "  FROM\n",
    "    firstlasttouch\n",
    "  GROUP BY\n",
    "    1,2,3"
   ]
  },
  {
   "cell_type": "markdown",
   "id": "66be7258-0f72-477d-af49-0d596a9ad1ad",
   "metadata": {},
   "source": [
    "### View #2\n",
    "\n",
    "To keep track of user demographics."
   ]
  },
  {
   "cell_type": "markdown",
   "id": "c274081d-4d1d-4303-8d35-d44d52b542b6",
   "metadata": {},
   "source": [
    "#@bigquery\n",
    "CREATE OR REPLACE VIEW data_journey_elt.user_demographics AS\n",
    "WITH first_values AS (\n",
    "    SELECT\n",
    "        user_pseudo_id,\n",
    "        geo.country as country,\n",
    "        device.operating_system as operating_system,\n",
    "        device.language as language,\n",
    "        ROW_NUMBER() OVER (PARTITION BY user_pseudo_id ORDER BY event_timestamp DESC) AS row_num\n",
    "    FROM `firebase-public-project.analytics_153293282.events_*`\n",
    "    WHERE event_name=\"user_engagement\"\n",
    "    )\n",
    "SELECT * EXCEPT (row_num)\n",
    "FROM first_values\n",
    "WHERE row_num = 1"
   ]
  },
  {
   "cell_type": "markdown",
   "id": "f22706ef-2213-449a-b661-20fd965b0958",
   "metadata": {},
   "source": [
    "### View 3\n",
    "\n",
    "In view #3 we aggregate certain user behaviour events."
   ]
  },
  {
   "cell_type": "markdown",
   "id": "8d1a7a5d-e7ce-4afd-9961-800b50f61fc3",
   "metadata": {},
   "source": [
    "#@bigquery\n",
    "CREATE OR REPLACE VIEW data_journey_elt.user_aggregate_behaviour AS\n",
    "WITH events_first24hr AS (\n",
    "    SELECT\n",
    "      e.*\n",
    "    FROM\n",
    "      `firebase-public-project.analytics_153293282.events_*` e\n",
    "    JOIN\n",
    "      data_journey_elt.user_returninginfo r\n",
    "    ON\n",
    "      e.user_pseudo_id = r.user_pseudo_id\n",
    "    WHERE\n",
    "      e.event_timestamp <= r.ts_24hr_after_first_engagement\n",
    "    )\n",
    "SELECT\n",
    "  user_pseudo_id,\n",
    "  SUM(IF(event_name = 'user_engagement', 1, 0)) AS cnt_user_engagement,\n",
    "  SUM(IF(event_name = 'level_start_quickplay', 1, 0)) AS cnt_level_start_quickplay,\n",
    "  SUM(IF(event_name = 'level_end_quickplay', 1, 0)) AS cnt_level_end_quickplay,\n",
    "  SUM(IF(event_name = 'level_complete_quickplay', 1, 0)) AS cnt_level_complete_quickplay,\n",
    "  SUM(IF(event_name = 'level_reset_quickplay', 1, 0)) AS cnt_level_reset_quickplay,\n",
    "  SUM(IF(event_name = 'post_score', 1, 0)) AS cnt_post_score,\n",
    "  SUM(IF(event_name = 'spend_virtual_currency', 1, 0)) AS cnt_spend_virtual_currency,\n",
    "  SUM(IF(event_name = 'ad_reward', 1, 0)) AS cnt_ad_reward,\n",
    "  SUM(IF(event_name = 'challenge_a_friend', 1, 0)) AS cnt_challenge_a_friend,\n",
    "  SUM(IF(event_name = 'completed_5_levels', 1, 0)) AS cnt_completed_5_levels,\n",
    "  SUM(IF(event_name = 'use_extra_steps', 1, 0)) AS cnt_use_extra_steps,\n",
    "FROM\n",
    "  events_first24hr\n",
    "GROUP BY\n",
    "  1\n"
   ]
  },
  {
   "cell_type": "code",
   "execution_count": null,
   "id": "d682aba2-b793-44db-a6c0-bae42401bb60",
   "metadata": {},
   "outputs": [],
   "source": []
  }
 ],
 "metadata": {
  "kernelspec": {
   "display_name": "Python (Local)",
   "language": "python",
   "name": "local-base"
  },
  "language_info": {
   "codemirror_mode": {
    "name": "ipython",
    "version": 3
   },
   "file_extension": ".py",
   "mimetype": "text/x-python",
   "name": "python",
   "nbconvert_exporter": "python",
   "pygments_lexer": "ipython3",
   "version": "3.7.12"
  }
 },
 "nbformat": 4,
 "nbformat_minor": 5
}
