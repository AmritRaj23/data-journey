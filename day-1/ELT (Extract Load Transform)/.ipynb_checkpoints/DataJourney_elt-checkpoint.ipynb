{
 "cells": [
  {
   "cell_type": "markdown",
   "id": "081635d6-1ae0-4e52-bf71-9bf8a694439a",
   "metadata": {},
   "source": [
    "# Data Journey Day 2: ELT (Extract Load Transform) with BigQuery\n",
    "\n",
    "<table align=\"left\">\n",
    "\n",
    "  <td>\n",
    "    <a href=\"https://github.com/AmritRaj23/data-journey/blob/main/day-1/ELT%20(Extract%20Load%20Transform)/DataJourney_elt.ipynb\">\n",
    "      <img src=\"https://cloud.google.com/ml-engine/images/github-logo-32px.png\" alt=\"GitHub logo\">\n",
    "      View on GitHub\n",
    "    </a>\n",
    "  </td>\n",
    "  <td>\n",
    "    <a href=\"https://console.cloud.google.com/vertex-ai/workbench/create-managed?download_url=https://github.com/AmritRaj23/data-journey/blob/main/day-1/ELT%20(Extract%20Load%20Transform)/DataJourney_elt.ipynb\">\n",
    "      <img src=\"https://lh3.googleusercontent.com/UiNooY4LUgW_oTvpsNhPpQzsstV5W8F7rYgxgGBD85cWJoLmrOzhVs_ksK_vgx40SHs7jCqkTkCk=e14-rj-sc0xffffff-h130-w32\" alt=\"Vertex AI logo\">\n",
    "      Open in Vertex AI Workbench\n",
    "     </a>\n",
    "  </td>\n",
    "</table>\n",
    "</table>\n",
    "<br/><br/><br/>\n",
    "\n",
    "In this Notebook demonstrate [ELT (Extract Load Transform) data processing with BigQuery](https://cloud.google.com/bigquery/docs/migration/pipelines#elt). ELT is the contrasting concept of ETL (Extract Tranform Load), which we already saw in action using Apache Beam and Dataflow.\n",
    "\n",
    "ELT trades off slower speed of on demand insights for lower storage cost. Typically ELT makes sense when analyzing large data volumes."
   ]
  },
  {
   "cell_type": "markdown",
   "id": "3fccaa10-fe0a-4a11-aaff-e8bce4bb48c1",
   "metadata": {},
   "source": [
    "## Step 1: Create BigQuery Dataset\n",
    "\n",
    "To kick things off we create a BigQuery dataset to accomodate our data. As sample data we are using the publicly firebase analytics data. However, since we are following the ELT approach we will NOT load the data directly in our dataset. ELT assumed the extraction is already done. We will only work with Views and materialize them on the fly as needed."
   ]
  },
  {
   "cell_type": "code",
   "execution_count": 2,
   "id": "56a01fa5-61f0-4f8d-9cf0-223b4a167499",
   "metadata": {},
   "outputs": [
    {
     "name": "stdout",
     "output_type": "stream",
     "text": [
      "Creation failed. Dataset may already exist.\n"
     ]
    }
   ],
   "source": [
    "from google.cloud import bigquery\n",
    "\n",
    "try: \n",
    "    client = bigquery.Client() # Constructing BQ client object.\n",
    "\n",
    "    dataset_id = \"{}.data_journey_elt\".format(client.project) # Defining dataset ID.\n",
    "    dataset = bigquery.Dataset(dataset_id)\n",
    "\n",
    "    dataset.location = \"<dataset-location>\" # Defining dataset location\n",
    "\n",
    "    dataset = client.create_dataset(dataset, timeout=30)  # Creating dataset by API requets.\n",
    "    print(\"Created dataset {}.{}\".format(client.project, dataset.dataset_id))\n",
    "except: \n",
    "    print('Creation failed. Dataset may already exist.')"
   ]
  },
  {
   "cell_type": "markdown",
   "id": "d6ab9c12-0aa1-463c-82ca-8d068a2edcc1",
   "metadata": {},
   "source": [
    "## Step 2: Explore BigQuery Data with BQ python API\n",
    "\n",
    "To get a better feel for our data and python tools lets explore our dataset using the [BigQuery Python API](https://googleapis.dev/python/bigquery/latest/index.html).\n",
    "\n",
    "The python utilities help us to define a query and load it directly into BigQuery."
   ]
  },
  {
   "cell_type": "code",
   "execution_count": 16,
   "id": "80cf93cd-c460-4add-ab64-98cff8c59479",
   "metadata": {},
   "outputs": [
    {
     "data": {
      "text/html": [
       "<div>\n",
       "<style scoped>\n",
       "    .dataframe tbody tr th:only-of-type {\n",
       "        vertical-align: middle;\n",
       "    }\n",
       "\n",
       "    .dataframe tbody tr th {\n",
       "        vertical-align: top;\n",
       "    }\n",
       "\n",
       "    .dataframe thead th {\n",
       "        text-align: right;\n",
       "    }\n",
       "</style>\n",
       "<table border=\"1\" class=\"dataframe\">\n",
       "  <thead>\n",
       "    <tr style=\"text-align: right;\">\n",
       "      <th></th>\n",
       "      <th>event_date</th>\n",
       "      <th>event_timestamp</th>\n",
       "      <th>event_name</th>\n",
       "      <th>event_params</th>\n",
       "      <th>event_previous_timestamp</th>\n",
       "      <th>event_value_in_usd</th>\n",
       "      <th>event_bundle_sequence_id</th>\n",
       "      <th>event_server_timestamp_offset</th>\n",
       "      <th>user_id</th>\n",
       "      <th>user_pseudo_id</th>\n",
       "      <th>user_properties</th>\n",
       "      <th>user_first_touch_timestamp</th>\n",
       "      <th>user_ltv</th>\n",
       "      <th>device</th>\n",
       "      <th>geo</th>\n",
       "      <th>app_info</th>\n",
       "      <th>traffic_source</th>\n",
       "      <th>stream_id</th>\n",
       "      <th>platform</th>\n",
       "      <th>event_dimensions</th>\n",
       "    </tr>\n",
       "  </thead>\n",
       "  <tbody>\n",
       "    <tr>\n",
       "      <th>0</th>\n",
       "      <td>20180814</td>\n",
       "      <td>1534311416381007</td>\n",
       "      <td>level_start_quickplay</td>\n",
       "      <td>[{'key': 'board', 'value': {'string_value': 'S...</td>\n",
       "      <td>1527918972491007</td>\n",
       "      <td>NaN</td>\n",
       "      <td>511</td>\n",
       "      <td>-340042</td>\n",
       "      <td>None</td>\n",
       "      <td>6F21DD230241C6587130E8FA2B5C1420</td>\n",
       "      <td>[{'key': 'plays_quickplay', 'value': {'string_...</td>\n",
       "      <td>1489016516414000</td>\n",
       "      <td>None</td>\n",
       "      <td>{'category': 'mobile', 'mobile_brand_name': 'n...</td>\n",
       "      <td>{'continent': 'Americas', 'country': 'United S...</td>\n",
       "      <td>{'id': 'com.labpixies.flood', 'version': '2.62...</td>\n",
       "      <td>{'name': '(direct)', 'medium': '(none)', 'sour...</td>\n",
       "      <td>1051193346</td>\n",
       "      <td>ANDROID</td>\n",
       "      <td>None</td>\n",
       "    </tr>\n",
       "    <tr>\n",
       "      <th>1</th>\n",
       "      <td>20180814</td>\n",
       "      <td>1534311453632006</td>\n",
       "      <td>level_fail_quickplay</td>\n",
       "      <td>[{'key': 'board', 'value': {'string_value': 'S...</td>\n",
       "      <td>1527918316709006</td>\n",
       "      <td>NaN</td>\n",
       "      <td>512</td>\n",
       "      <td>-228430</td>\n",
       "      <td>None</td>\n",
       "      <td>6F21DD230241C6587130E8FA2B5C1420</td>\n",
       "      <td>[{'key': 'plays_quickplay', 'value': {'string_...</td>\n",
       "      <td>1489016516414000</td>\n",
       "      <td>None</td>\n",
       "      <td>{'category': 'mobile', 'mobile_brand_name': 'n...</td>\n",
       "      <td>{'continent': 'Americas', 'country': 'United S...</td>\n",
       "      <td>{'id': 'com.labpixies.flood', 'version': '2.62...</td>\n",
       "      <td>{'name': '(direct)', 'medium': '(none)', 'sour...</td>\n",
       "      <td>1051193346</td>\n",
       "      <td>ANDROID</td>\n",
       "      <td>None</td>\n",
       "    </tr>\n",
       "    <tr>\n",
       "      <th>2</th>\n",
       "      <td>20180814</td>\n",
       "      <td>1534311500632007</td>\n",
       "      <td>level_end_quickplay</td>\n",
       "      <td>[{'key': 'board', 'value': {'string_value': 'S...</td>\n",
       "      <td>1527918969486007</td>\n",
       "      <td>NaN</td>\n",
       "      <td>512</td>\n",
       "      <td>-228430</td>\n",
       "      <td>None</td>\n",
       "      <td>6F21DD230241C6587130E8FA2B5C1420</td>\n",
       "      <td>[{'key': 'plays_quickplay', 'value': {'string_...</td>\n",
       "      <td>1489016516414000</td>\n",
       "      <td>None</td>\n",
       "      <td>{'category': 'mobile', 'mobile_brand_name': 'n...</td>\n",
       "      <td>{'continent': 'Americas', 'country': 'United S...</td>\n",
       "      <td>{'id': 'com.labpixies.flood', 'version': '2.62...</td>\n",
       "      <td>{'name': '(direct)', 'medium': '(none)', 'sour...</td>\n",
       "      <td>1051193346</td>\n",
       "      <td>ANDROID</td>\n",
       "      <td>None</td>\n",
       "    </tr>\n",
       "  </tbody>\n",
       "</table>\n",
       "</div>"
      ],
      "text/plain": [
       "  event_date   event_timestamp             event_name  \\\n",
       "0   20180814  1534311416381007  level_start_quickplay   \n",
       "1   20180814  1534311453632006   level_fail_quickplay   \n",
       "2   20180814  1534311500632007    level_end_quickplay   \n",
       "\n",
       "                                        event_params  \\\n",
       "0  [{'key': 'board', 'value': {'string_value': 'S...   \n",
       "1  [{'key': 'board', 'value': {'string_value': 'S...   \n",
       "2  [{'key': 'board', 'value': {'string_value': 'S...   \n",
       "\n",
       "   event_previous_timestamp  event_value_in_usd  event_bundle_sequence_id  \\\n",
       "0          1527918972491007                 NaN                       511   \n",
       "1          1527918316709006                 NaN                       512   \n",
       "2          1527918969486007                 NaN                       512   \n",
       "\n",
       "   event_server_timestamp_offset user_id                    user_pseudo_id  \\\n",
       "0                        -340042    None  6F21DD230241C6587130E8FA2B5C1420   \n",
       "1                        -228430    None  6F21DD230241C6587130E8FA2B5C1420   \n",
       "2                        -228430    None  6F21DD230241C6587130E8FA2B5C1420   \n",
       "\n",
       "                                     user_properties  \\\n",
       "0  [{'key': 'plays_quickplay', 'value': {'string_...   \n",
       "1  [{'key': 'plays_quickplay', 'value': {'string_...   \n",
       "2  [{'key': 'plays_quickplay', 'value': {'string_...   \n",
       "\n",
       "   user_first_touch_timestamp user_ltv  \\\n",
       "0            1489016516414000     None   \n",
       "1            1489016516414000     None   \n",
       "2            1489016516414000     None   \n",
       "\n",
       "                                              device  \\\n",
       "0  {'category': 'mobile', 'mobile_brand_name': 'n...   \n",
       "1  {'category': 'mobile', 'mobile_brand_name': 'n...   \n",
       "2  {'category': 'mobile', 'mobile_brand_name': 'n...   \n",
       "\n",
       "                                                 geo  \\\n",
       "0  {'continent': 'Americas', 'country': 'United S...   \n",
       "1  {'continent': 'Americas', 'country': 'United S...   \n",
       "2  {'continent': 'Americas', 'country': 'United S...   \n",
       "\n",
       "                                            app_info  \\\n",
       "0  {'id': 'com.labpixies.flood', 'version': '2.62...   \n",
       "1  {'id': 'com.labpixies.flood', 'version': '2.62...   \n",
       "2  {'id': 'com.labpixies.flood', 'version': '2.62...   \n",
       "\n",
       "                                      traffic_source   stream_id platform  \\\n",
       "0  {'name': '(direct)', 'medium': '(none)', 'sour...  1051193346  ANDROID   \n",
       "1  {'name': '(direct)', 'medium': '(none)', 'sour...  1051193346  ANDROID   \n",
       "2  {'name': '(direct)', 'medium': '(none)', 'sour...  1051193346  ANDROID   \n",
       "\n",
       "  event_dimensions  \n",
       "0             None  \n",
       "1             None  \n",
       "2             None  "
      ]
     },
     "execution_count": 16,
     "metadata": {},
     "output_type": "execute_result"
    }
   ],
   "source": [
    "query = \"\"\"\n",
    "    SELECT *\n",
    "    FROM `firebase-public-project.analytics_153293282.events_*`\n",
    "    LIMIT 3\n",
    "    \"\"\"\n",
    "\n",
    "client.query(query).to_dataframe()"
   ]
  },
  {
   "cell_type": "markdown",
   "id": "0bb66d7a-4435-4d3b-a09d-4f4a212c35d7",
   "metadata": {},
   "source": [
    "## Step 2: Transformation & Feature Engineering Using BigQuery Views\n",
    "\n",
    "Starting into the Transform step of ELT we make use of [BigQuery Views](https://cloud.google.com/bigquery/docs/views-intro). Views allow mapping transformations over a dataset without processing the actual result. That saves the respective data storage and keeps our flexibility. Should we see the need to change anything in our processing pipeline we won't need to re-compute all our materialized and transformed data. Instead we only adapt the query that defines the view."
   ]
  },
  {
   "cell_type": "markdown",
   "id": "b4765c17-f978-4235-b755-c015d14ee2d5",
   "metadata": {},
   "source": [
    "#### Defining view #1\n",
    "\n",
    "To keep track of users that churned we create boolean features for 'churn' & 'bounce'."
   ]
  },
  {
   "cell_type": "code",
   "execution_count": 12,
   "id": "18bdfd09-4483-4479-9894-1f3731b76179",
   "metadata": {},
   "outputs": [
    {
     "data": {
      "text/plain": [
       "QueryJob<project=fourth-carport-363710, location=US, id=c495421b-10fd-4663-b405-fe597295c650>"
      ]
     },
     "execution_count": 12,
     "metadata": {},
     "output_type": "execute_result"
    }
   ],
   "source": [
    "query = \"\"\"\n",
    "    CREATE OR REPLACE VIEW data_journey_elt.user_returninginfo AS\n",
    "    WITH firstlasttouch AS (\n",
    "        SELECT\n",
    "          user_pseudo_id,\n",
    "          MIN(event_timestamp) AS user_first_engagement,\n",
    "          MAX(event_timestamp) AS user_last_engagement\n",
    "        FROM\n",
    "          `firebase-public-project.analytics_153293282.events_*`\n",
    "        WHERE event_name=\"user_engagement\"\n",
    "        GROUP BY\n",
    "          user_pseudo_id\n",
    "\n",
    "      )\n",
    "      SELECT\n",
    "        user_pseudo_id,\n",
    "        user_first_engagement,\n",
    "        user_last_engagement,\n",
    "        EXTRACT(MONTH from TIMESTAMP_MICROS(user_first_engagement)) as month,\n",
    "        EXTRACT(DAYOFYEAR from TIMESTAMP_MICROS(user_first_engagement)) as julianday,\n",
    "        EXTRACT(DAYOFWEEK from TIMESTAMP_MICROS(user_first_engagement)) as dayofweek,\n",
    "\n",
    "        (user_first_engagement + 86400000000) AS ts_24hr_after_first_engagement,\n",
    "\n",
    "    IF (user_last_engagement < (user_first_engagement + 86400000000),\n",
    "        1,\n",
    "        0 ) AS churned,\n",
    "\n",
    "    IF (user_last_engagement <= (user_first_engagement + 600000000),\n",
    "        1,\n",
    "        0 ) AS bounced,\n",
    "      FROM\n",
    "        firstlasttouch\n",
    "      GROUP BY\n",
    "        1,2,3\n",
    "\"\"\"\n",
    "\n",
    "client.query(query)"
   ]
  },
  {
   "cell_type": "markdown",
   "id": "66be7258-0f72-477d-af49-0d596a9ad1ad",
   "metadata": {},
   "source": [
    "#### Defining view #2\n",
    "\n",
    "To keep track of user demographics."
   ]
  },
  {
   "cell_type": "code",
   "execution_count": 13,
   "id": "1f3f4811-2273-4ed5-874b-060a720534f3",
   "metadata": {},
   "outputs": [
    {
     "data": {
      "text/plain": [
       "QueryJob<project=fourth-carport-363710, location=US, id=d157636e-ab79-497e-89f4-94d81705bce4>"
      ]
     },
     "execution_count": 13,
     "metadata": {},
     "output_type": "execute_result"
    }
   ],
   "source": [
    "query = \"\"\"\n",
    "        CREATE OR REPLACE VIEW data_journey_elt.user_demographics AS\n",
    "        WITH first_values AS (\n",
    "            SELECT\n",
    "                user_pseudo_id,\n",
    "                geo.country as country,\n",
    "                device.operating_system as operating_system,\n",
    "                device.language as language,\n",
    "                ROW_NUMBER() OVER (PARTITION BY user_pseudo_id ORDER BY event_timestamp DESC) AS row_num\n",
    "            FROM `firebase-public-project.analytics_153293282.events_*`\n",
    "            WHERE event_name=\"user_engagement\"\n",
    "            )\n",
    "        SELECT * EXCEPT (row_num)\n",
    "        FROM first_values\n",
    "        WHERE row_num = 1\n",
    "\"\"\"\n",
    "\n",
    "client.query(query)"
   ]
  },
  {
   "cell_type": "markdown",
   "id": "f22706ef-2213-449a-b661-20fd965b0958",
   "metadata": {},
   "source": [
    "#### Defining view #3 \n",
    "\n",
    "In view #3 we aggregate certain user behaviour events."
   ]
  },
  {
   "cell_type": "code",
   "execution_count": 15,
   "id": "857087ea-f387-45ac-b56a-8d92f66ba6c0",
   "metadata": {},
   "outputs": [
    {
     "data": {
      "text/plain": [
       "QueryJob<project=fourth-carport-363710, location=US, id=830ff960-0bee-417f-92d7-ba2c59e5a5e0>"
      ]
     },
     "execution_count": 15,
     "metadata": {},
     "output_type": "execute_result"
    }
   ],
   "source": [
    "query = \"\"\"\n",
    "CREATE OR REPLACE VIEW data_journey_elt.user_aggregate_behaviour AS\n",
    "WITH events_first24hr AS (\n",
    "    SELECT\n",
    "      e.*\n",
    "    FROM\n",
    "      `firebase-public-project.analytics_153293282.events_*` e\n",
    "    JOIN\n",
    "      data_journey_elt.user_returninginfo r\n",
    "    ON\n",
    "      e.user_pseudo_id = r.user_pseudo_id\n",
    "    WHERE\n",
    "      e.event_timestamp <= r.ts_24hr_after_first_engagement\n",
    "    )\n",
    "SELECT\n",
    "  user_pseudo_id,\n",
    "  SUM(IF(event_name = 'user_engagement', 1, 0)) AS cnt_user_engagement,\n",
    "  SUM(IF(event_name = 'level_start_quickplay', 1, 0)) AS cnt_level_start_quickplay,\n",
    "  SUM(IF(event_name = 'level_end_quickplay', 1, 0)) AS cnt_level_end_quickplay,\n",
    "  SUM(IF(event_name = 'level_complete_quickplay', 1, 0)) AS cnt_level_complete_quickplay,\n",
    "  SUM(IF(event_name = 'level_reset_quickplay', 1, 0)) AS cnt_level_reset_quickplay,\n",
    "  SUM(IF(event_name = 'post_score', 1, 0)) AS cnt_post_score,\n",
    "  SUM(IF(event_name = 'spend_virtual_currency', 1, 0)) AS cnt_spend_virtual_currency,\n",
    "  SUM(IF(event_name = 'ad_reward', 1, 0)) AS cnt_ad_reward,\n",
    "  SUM(IF(event_name = 'challenge_a_friend', 1, 0)) AS cnt_challenge_a_friend,\n",
    "  SUM(IF(event_name = 'completed_5_levels', 1, 0)) AS cnt_completed_5_levels,\n",
    "  SUM(IF(event_name = 'use_extra_steps', 1, 0)) AS cnt_use_extra_steps,\n",
    "FROM\n",
    "  events_first24hr\n",
    "GROUP BY\n",
    "  1\n",
    "\"\"\"\n",
    "\n",
    "client.query(query)"
   ]
  },
  {
   "cell_type": "code",
   "execution_count": null,
   "id": "319903a0-fc11-4c58-81a6-7a305ecaf63f",
   "metadata": {},
   "outputs": [],
   "source": []
  }
 ],
 "metadata": {
  "kernelspec": {
   "display_name": "01. Apache Beam 2.40.0 for Python 3",
   "language": "python",
   "name": "01-apache-beam-2.40.0"
  },
  "language_info": {
   "codemirror_mode": {
    "name": "ipython",
    "version": 3
   },
   "file_extension": ".py",
   "mimetype": "text/x-python",
   "name": "python",
   "nbconvert_exporter": "python",
   "pygments_lexer": "ipython3",
   "version": "3.7.12"
  }
 },
 "nbformat": 4,
 "nbformat_minor": 5
}
