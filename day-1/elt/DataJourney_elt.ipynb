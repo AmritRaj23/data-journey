{
 "cells": [
  {
   "cell_type": "markdown",
   "id": "e2c5f8c0-2870-46a4-a175-88ace91261ed",
   "metadata": {},
   "source": [
    "# ELT in BigQuery\n",
    "\n",
    "We saw how to process Data in Apache Beam & Dataflow following ETL (Extract-Tranform-Load) principles.\n",
    "\n",
    "Next we are taking a look at ETL (Extract Transform Load) using the BigQuery Data Warehouse.\n",
    "\n",
    "ELT trades off slower speed of on demand insights for lower storage cost. Typically ELT makes sense when analyzing large data volumes."
   ]
  },
  {
   "cell_type": "markdown",
   "id": "3fccaa10-fe0a-4a11-aaff-e8bce4bb48c1",
   "metadata": {},
   "source": [
    "## Create BigQuery Dataset\n",
    "\n",
    "To kick things off we create a BigQuery dataset to accomodate our data."
   ]
  },
  {
   "cell_type": "code",
   "execution_count": 32,
   "id": "56a01fa5-61f0-4f8d-9cf0-223b4a167499",
   "metadata": {},
   "outputs": [
    {
     "name": "stdout",
     "output_type": "stream",
     "text": [
      "Creation failed. Dataset may already exist.\n"
     ]
    }
   ],
   "source": [
    "try: \n",
    "    client = bigquery.Client() # Constructing BQ client object.\n",
    "\n",
    "    dataset_id = \"{}.data_journey_elt\".format(client.project) # Defining dataset ID.\n",
    "    dataset = bigquery.Dataset(dataset_id)\n",
    "\n",
    "    dataset.location = \"US\" # Defining dataset location\n",
    "\n",
    "    dataset = client.create_dataset(dataset, timeout=30)  # Creating dataset by API requets.\n",
    "    print(\"Created dataset {}.{}\".format(client.project, dataset.dataset_id))\n",
    "except: \n",
    "    print('Creation failed. Dataset may already exist.')"
   ]
  },
  {
   "cell_type": "markdown",
   "id": "d6ab9c12-0aa1-463c-82ca-8d068a2edcc1",
   "metadata": {},
   "source": [
    "Next, we access the public firebase dataset using the BigQuery integration.\n",
    "\n",
    "We will explore App User behaviour to demonstrate the ELT concepts. The Extraction step is in this example already finished as the raw data is available for us to analyze."
   ]
  },
  {
   "cell_type": "markdown",
   "id": "b509b941-1d89-460e-a235-52ed29448ed5",
   "metadata": {},
   "source": [
    "#@bigquery\n",
    "SELECT *\n",
    "FROM `firebase-public-project.analytics_153293282.events_*`\n",
    "LIMIT 3"
   ]
  },
  {
   "cell_type": "code",
   "execution_count": 38,
   "id": "a998f197-9844-464b-9c74-4ad9988ac2ee",
   "metadata": {},
   "outputs": [],
   "source": [
    "# The following two lines are only necessary to run once.\n",
    "# Comment out otherwise for speed-up.\n",
    "from google.cloud.bigquery import Client, QueryJobConfig\n",
    "client = Client()\n",
    "\n",
    "query = \"\"\"SELECT *\n",
    "FROM `firebase-public-project.analytics_153293282.events_*`\n",
    "LIMIT 3\"\"\"\n",
    "job = client.query(query)\n",
    "df = job.to_dataframe()"
   ]
  },
  {
   "cell_type": "markdown",
   "id": "0bb66d7a-4435-4d3b-a09d-4f4a212c35d7",
   "metadata": {},
   "source": [
    "## Transformation & Feature Engineering Using BigQuery Views\n",
    "\n",
    "[BigQuery Views](https://cloud.google.com/bigquery/docs/views-intro) allow mapping transformations over a dataset without processing the actual result. "
   ]
  },
  {
   "cell_type": "markdown",
   "id": "b4765c17-f978-4235-b755-c015d14ee2d5",
   "metadata": {},
   "source": [
    "### View #1\n",
    "\n",
    "To keep track of users that churned we create boolean features for 'churn' & 'bounce'."
   ]
  },
  {
   "cell_type": "markdown",
   "id": "07002380-19ed-4137-8fc6-efb797b4bb35",
   "metadata": {},
   "source": [
    "#@bigquery\n",
    "CREATE OR REPLACE VIEW data_journey_elt.user_returninginfo AS\n",
    "WITH firstlasttouch AS (\n",
    "    SELECT\n",
    "      user_pseudo_id,\n",
    "      MIN(event_timestamp) AS user_first_engagement,\n",
    "      MAX(event_timestamp) AS user_last_engagement\n",
    "    FROM\n",
    "      `firebase-public-project.analytics_153293282.events_*`\n",
    "    WHERE event_name=\"user_engagement\"\n",
    "    GROUP BY\n",
    "      user_pseudo_id\n",
    "\n",
    "  )\n",
    "  SELECT\n",
    "    user_pseudo_id,\n",
    "    user_first_engagement,\n",
    "    user_last_engagement,\n",
    "    EXTRACT(MONTH from TIMESTAMP_MICROS(user_first_engagement)) as month,\n",
    "    EXTRACT(DAYOFYEAR from TIMESTAMP_MICROS(user_first_engagement)) as julianday,\n",
    "    EXTRACT(DAYOFWEEK from TIMESTAMP_MICROS(user_first_engagement)) as dayofweek,\n",
    "\n",
    "    (user_first_engagement + 86400000000) AS ts_24hr_after_first_engagement,\n",
    "\n",
    "IF (user_last_engagement < (user_first_engagement + 86400000000),\n",
    "    1,\n",
    "    0 ) AS churned,\n",
    "\n",
    "IF (user_last_engagement <= (user_first_engagement + 600000000),\n",
    "    1,\n",
    "    0 ) AS bounced,\n",
    "  FROM\n",
    "    firstlasttouch\n",
    "  GROUP BY\n",
    "    1,2,3"
   ]
  },
  {
   "cell_type": "markdown",
   "id": "c274081d-4d1d-4303-8d35-d44d52b542b6",
   "metadata": {},
   "source": [
    "#@bigquery\n",
    "CREATE OR REPLACE VIEW data_journey_elt.user_demographics AS\n",
    "WITH first_values AS (\n",
    "    SELECT\n",
    "        user_pseudo_id,\n",
    "        geo.country as country,\n",
    "        device.operating_system as operating_system,\n",
    "        device.language as language,\n",
    "        ROW_NUMBER() OVER (PARTITION BY user_pseudo_id ORDER BY event_timestamp DESC) AS row_num\n",
    "    FROM `firebase-public-project.analytics_153293282.events_*`\n",
    "    WHERE event_name=\"user_engagement\"\n",
    "    )\n",
    "SELECT * EXCEPT (row_num)\n",
    "FROM first_values\n",
    "WHERE row_num = 1"
   ]
  },
  {
   "cell_type": "markdown",
   "id": "f22706ef-2213-449a-b661-20fd965b0958",
   "metadata": {},
   "source": [
    "### View 3\n",
    "\n",
    "In view #3 we aggregate certain user behaviour events."
   ]
  },
  {
   "cell_type": "markdown",
   "id": "8d1a7a5d-e7ce-4afd-9961-800b50f61fc3",
   "metadata": {},
   "source": [
    "#@bigquery\n",
    "CREATE OR REPLACE VIEW data_journey_elt.user_aggregate_behaviour AS\n",
    "WITH events_first24hr AS (\n",
    "    SELECT\n",
    "      e.*\n",
    "    FROM\n",
    "      `firebase-public-project.analytics_153293282.events_*` e\n",
    "    JOIN\n",
    "      data_journey_elt.user_returninginfo r\n",
    "    ON\n",
    "      e.user_pseudo_id = r.user_pseudo_id\n",
    "    WHERE\n",
    "      e.event_timestamp <= r.ts_24hr_after_first_engagement\n",
    "    )\n",
    "SELECT\n",
    "  user_pseudo_id,\n",
    "  SUM(IF(event_name = 'user_engagement', 1, 0)) AS cnt_user_engagement,\n",
    "  SUM(IF(event_name = 'level_start_quickplay', 1, 0)) AS cnt_level_start_quickplay,\n",
    "  SUM(IF(event_name = 'level_end_quickplay', 1, 0)) AS cnt_level_end_quickplay,\n",
    "  SUM(IF(event_name = 'level_complete_quickplay', 1, 0)) AS cnt_level_complete_quickplay,\n",
    "  SUM(IF(event_name = 'level_reset_quickplay', 1, 0)) AS cnt_level_reset_quickplay,\n",
    "  SUM(IF(event_name = 'post_score', 1, 0)) AS cnt_post_score,\n",
    "  SUM(IF(event_name = 'spend_virtual_currency', 1, 0)) AS cnt_spend_virtual_currency,\n",
    "  SUM(IF(event_name = 'ad_reward', 1, 0)) AS cnt_ad_reward,\n",
    "  SUM(IF(event_name = 'challenge_a_friend', 1, 0)) AS cnt_challenge_a_friend,\n",
    "  SUM(IF(event_name = 'completed_5_levels', 1, 0)) AS cnt_completed_5_levels,\n",
    "  SUM(IF(event_name = 'use_extra_steps', 1, 0)) AS cnt_use_extra_steps,\n",
    "FROM\n",
    "  events_first24hr\n",
    "GROUP BY\n",
    "  1\n"
   ]
  },
  {
   "cell_type": "markdown",
   "id": "b6e65b84-87bd-4a34-8bc1-10990cd60c3f",
   "metadata": {},
   "source": [
    "### View 4\n",
    "\n",
    "In view #4 we collect all the features from previous views to train"
   ]
  },
  {
   "cell_type": "markdown",
   "id": "e88cb91f-8484-4a6b-bab9-2bcc07cd8569",
   "metadata": {},
   "source": [
    "#@bigquery\n",
    "CREATE OR REPLACE VIEW data_journey_elt.cc_full_dataset AS\n",
    "SELECT\n",
    "  dem.*,\n",
    "  IFNULL(beh.cnt_user_engagement, 0) AS cnt_user_engagement,\n",
    "  IFNULL(beh.cnt_level_start_quickplay, 0) AS cnt_level_start_quickplay,\n",
    "  IFNULL(beh.cnt_level_end_quickplay, 0) AS cnt_level_end_quickplay,\n",
    "  IFNULL(beh.cnt_level_complete_quickplay, 0) AS cnt_level_complete_quickplay,\n",
    "  IFNULL(beh.cnt_level_reset_quickplay, 0) AS cnt_level_reset_quickplay,\n",
    "  IFNULL(beh.cnt_post_score, 0) AS cnt_post_score,\n",
    "  IFNULL(beh.cnt_spend_virtual_currency, 0) AS cnt_spend_virtual_currency,\n",
    "  IFNULL(beh.cnt_ad_reward, 0) AS cnt_ad_reward,\n",
    "  IFNULL(beh.cnt_challenge_a_friend, 0) AS cnt_challenge_a_friend,\n",
    "  IFNULL(beh.cnt_completed_5_levels, 0) AS cnt_completed_5_levels,\n",
    "  IFNULL(beh.cnt_use_extra_steps, 0) AS cnt_use_extra_steps,\n",
    "  ret.user_first_engagement,\n",
    "  ret.churned\n",
    "FROM\n",
    "  data_journey_elt.user_returninginfo ret\n",
    "LEFT OUTER JOIN\n",
    "  data_journey_elt.user_demographics dem\n",
    "ON \n",
    "  ret.user_pseudo_id = dem.user_pseudo_id\n",
    "LEFT OUTER JOIN \n",
    "  data_journey_elt.user_aggregate_behaviour beh\n",
    "ON\n",
    "  ret.user_pseudo_id = beh.user_pseudo_id\n",
    "WHERE ret.bounced = 0"
   ]
  },
  {
   "cell_type": "markdown",
   "id": "7e9d3e84-2f4b-4680-9cc5-8d70bd28bf9e",
   "metadata": {},
   "source": [
    "## Train and test split"
   ]
  },
  {
   "cell_type": "markdown",
   "id": "d68328cf-75ba-46a4-8d67-11ecafb37aeb",
   "metadata": {},
   "source": [
    "#@bigquery\n",
    "CREATE OR REPLACE VIEW data_journey_elt.cc_train_dataset_t AS\n",
    "SELECT * FROM data_journey_elt.cc_full_dataset  \n",
    "WHERE ABS(MOD(FARM_FINGERPRINT(user_pseudo_id), 10)) < 8"
   ]
  },
  {
   "cell_type": "markdown",
   "id": "d340cfb2-01d2-4d76-8672-174ff9fd09b9",
   "metadata": {},
   "source": [
    "#@bigquery\n",
    "CREATE OR REPLACE VIEW data_journey_elt.cc_train_dataset AS\n",
    "SELECT * FROM data_journey_elt.cc_full_dataset  \n",
    "WHERE ABS(MOD(FARM_FINGERPRINT(user_pseudo_id), 10)) < 8"
   ]
  },
  {
   "cell_type": "markdown",
   "id": "1a53dac3-6bfa-4bf7-a45c-e352f55a013d",
   "metadata": {},
   "source": [
    "#@bigquery\n",
    "CREATE OR REPLACE VIEW data_journey_elt.cc_eval_dataset AS\n",
    "SELECT * FROM data_journey_elt.cc_full_dataset   \n",
    "WHERE ABS(MOD(FARM_FINGERPRINT(user_pseudo_id), 10)) = 8"
   ]
  },
  {
   "cell_type": "markdown",
   "id": "13080386-86b5-42a4-8452-fc19fb2b1ca9",
   "metadata": {},
   "source": [
    "## ETL vs. ELT in BigQuery \n",
    "\n",
    "To demonstrate the difference between views and tables let's load the full training data as table.\n",
    "\n",
    "The BigQuery plugin displays the ammount of data that needs to be scanned to create the table."
   ]
  },
  {
   "cell_type": "markdown",
   "id": "72904594-2f00-4309-b575-5913e6054e8b",
   "metadata": {},
   "source": [
    "#@bigquery\n",
    "CREATE OR REPLACE TABLE data_journey_elt.cc_full_dataset_loaded AS\n",
    "SELECT *\n",
    "FROM data_journey_elt.cc_full_dataset"
   ]
  },
  {
   "cell_type": "markdown",
   "id": "49cab031-ec7e-4454-b1f5-e04d7d7ad1e4",
   "metadata": {},
   "source": [
    "BigQuery now contains the full training data once as view and once as table. \n",
    "\n",
    "Let's extract the evaluation dataset once from the view and once from the table while comparing the ammount of data scanned."
   ]
  },
  {
   "cell_type": "markdown",
   "id": "09f3838f-6652-42f0-9c54-f3fc09c68d9a",
   "metadata": {},
   "source": [
    "#@bigquery\n",
    "CREATE OR REPLACE TABLE data_journey_elt.cc_eval_dataset_t AS\n",
    "SELECT * FROM data_journey_elt.cc_full_dataset   \n",
    "WHERE ABS(MOD(FARM_FINGERPRINT(user_pseudo_id), 10)) = 8"
   ]
  },
  {
   "cell_type": "markdown",
   "id": "edecfac2-955d-4d2c-84fd-4520c1912768",
   "metadata": {},
   "source": [
    "#@bigquery\n",
    "CREATE OR REPLACE TABLE data_journey_elt.cc_eval_dataset_t AS\n",
    "SELECT * FROM data_journey_elt.cc_full_dataset_loaded\n",
    "WHERE ABS(MOD(FARM_FINGERPRINT(user_pseudo_id), 10)) = 8"
   ]
  },
  {
   "cell_type": "markdown",
   "id": "0a801de3-9074-4230-a193-b321fb183179",
   "metadata": {},
   "source": [
    "## Materialized Views in BigQuery\n",
    "\n",
    "BigQuery also offers [materialized views](https://cloud.google.com/bigquery/docs/materialized-views-intro). These are the hybrid between loaded tables and mapped views.\n",
    "\n",
    "Materialized views are precomputed views that cache the query results on a regular basis. If possible, the user only reads the delta from the base table at query time.\n",
    "\n",
    "Especially in the case of commonly repeated queries these might increase performance and efficiency."
   ]
  },
  {
   "cell_type": "markdown",
   "id": "fa741162-4c6d-4b62-9db2-f3c9001b3f54",
   "metadata": {},
   "source": [
    "#@bigquery\n",
    "CREATE MATERIALIZED VIEW data_journey_elt.cc_full_dataset_mat AS\n",
    "SELECT *\n",
    "FROM data_journey_elt.cc_full_dataset_loaded"
   ]
  },
  {
   "cell_type": "markdown",
   "id": "e736507d-fcec-4016-8cef-245e5d32b285",
   "metadata": {},
   "source": [
    "When querying the materialized view, we scan only as much data as we would when querying the actual table.\n",
    "\n",
    "When querying the view, we scan more volume since the transformations still need to be applied."
   ]
  },
  {
   "cell_type": "markdown",
   "id": "e38622ae-434f-4ddf-94c3-33381b78eb42",
   "metadata": {},
   "source": [
    "#@bigquery\n",
    "SELECT * \n",
    "FROM data_journey_elt.cc_full_dataset"
   ]
  },
  {
   "cell_type": "markdown",
   "id": "98ff7ee8-9326-4be5-b27c-2bc2b540154f",
   "metadata": {},
   "source": [
    "#@bigquery\n",
    "SELECT * \n",
    "FROM data_journey_elt.cc_full_dataset_loaded"
   ]
  },
  {
   "cell_type": "markdown",
   "id": "f9e8c34e-bdd5-4662-b076-9256dba85b58",
   "metadata": {},
   "source": [
    "#@bigquery\n",
    "SELECT * \n",
    "FROM data_journey_elt.cc_full_dataset_mat"
   ]
  },
  {
   "cell_type": "code",
   "execution_count": null,
   "id": "26f989d6-1931-4a72-856a-137216d105b4",
   "metadata": {},
   "outputs": [],
   "source": []
  }
 ],
 "metadata": {
  "kernelspec": {
   "display_name": "Python (Local)",
   "language": "python",
   "name": "local-base"
  },
  "language_info": {
   "codemirror_mode": {
    "name": "ipython",
    "version": 3
   },
   "file_extension": ".py",
   "mimetype": "text/x-python",
   "name": "python",
   "nbconvert_exporter": "python",
   "pygments_lexer": "ipython3",
   "version": "3.7.12"
  }
 },
 "nbformat": 4,
 "nbformat_minor": 5
}
