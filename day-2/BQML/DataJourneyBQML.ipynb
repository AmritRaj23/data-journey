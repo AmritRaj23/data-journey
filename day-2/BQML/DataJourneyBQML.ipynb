{
 "cells": [
  {
   "cell_type": "markdown",
   "id": "6693e950-502b-4f4e-aaac-34b44b015bff",
   "metadata": {
    "id": "6693e950-502b-4f4e-aaac-34b44b015bff"
   },
   "source": [
    "# **Lab 2:** Data Exploration and Model Training"
   ]
  },
  {
   "cell_type": "markdown",
   "id": "101df100-8730-4286-9a02-2819e1e0855c",
   "metadata": {
    "id": "101df100-8730-4286-9a02-2819e1e0855c"
   },
   "source": [
    "### **Step 1:** Preparation and Authentication\n",
    "Set the right parameters and authenticate your user. "
   ]
  },
  {
   "cell_type": "code",
   "execution_count": 1,
   "id": "988eb9c8-1d06-4c2f-8947-2a843177201b",
   "metadata": {
    "id": "988eb9c8-1d06-4c2f-8947-2a843177201b"
   },
   "outputs": [],
   "source": [
    "project_id = \"jp-sandbox-359611\"\n",
    "location   = \"us\" #This is currently necessary\n",
    "dataset_name = \"data_journey_elt\""
   ]
  },
  {
   "cell_type": "code",
   "execution_count": 2,
   "id": "209ec9e2-e26c-4f02-84ec-206bcb1a3fcb",
   "metadata": {
    "id": "209ec9e2-e26c-4f02-84ec-206bcb1a3fcb"
   },
   "outputs": [],
   "source": [
    "from google.cloud import bigquery\n",
    "from google.cloud.bigquery import Client, QueryJobConfig\n",
    "\n",
    "client = bigquery.Client(project=project_id)"
   ]
  },
  {
   "cell_type": "markdown",
   "id": "1jjaJyFyG00m",
   "metadata": {
    "id": "1jjaJyFyG00m"
   },
   "source": [
    "### **Step 2:** Data Exploration\n",
    "Get a feeling of the data and explore different facets and features"
   ]
  },
  {
   "cell_type": "markdown",
   "id": "4dc1d19a-e397-401d-85b8-5e3f7a441e7f",
   "metadata": {
    "id": "4dc1d19a-e397-401d-85b8-5e3f7a441e7f"
   },
   "source": [
    "To remember: This is how the final training dataset looks like\n",
    "\n",
    "| User Demographic Data | User Behavioral Data | Label \n",
    "| --- | --- | --- |\n",
    "| country | cnt_user_engagement | churned\n",
    "| operating_system | cnt_level_start_quickplay |  |\n",
    "| language | cnt_level_end_quickplay |  |\n",
    "|  |  cnt_level_complete_quickplay |  |\n",
    "|  |  cnt_level_reset_quickplay |  |\n",
    "|  |  cnt_post_score |  |\n",
    "|  |  cnt_spend_virtual_currency |  |\n",
    "|  |  cnt_ad_reward |  |\n",
    "|  |  cnt_challenge_a_friend |  |\n",
    "|  |  cnt_completed_5_levels |  |\n",
    "|  |  cnt_use_extra_steps |  |\n",
    "|  |  user_first_engagement |  | **bold text**"
   ]
  },
  {
   "cell_type": "code",
   "execution_count": 3,
   "id": "cf4e64a1-44d3-45ef-b310-5194d987a7c1",
   "metadata": {
    "id": "cf4e64a1-44d3-45ef-b310-5194d987a7c1"
   },
   "outputs": [
    {
     "data": {
      "text/html": [
       "<div>\n",
       "<style scoped>\n",
       "    .dataframe tbody tr th:only-of-type {\n",
       "        vertical-align: middle;\n",
       "    }\n",
       "\n",
       "    .dataframe tbody tr th {\n",
       "        vertical-align: top;\n",
       "    }\n",
       "\n",
       "    .dataframe thead th {\n",
       "        text-align: right;\n",
       "    }\n",
       "</style>\n",
       "<table border=\"1\" class=\"dataframe\">\n",
       "  <thead>\n",
       "    <tr style=\"text-align: right;\">\n",
       "      <th></th>\n",
       "      <th>user_pseudo_id</th>\n",
       "      <th>country</th>\n",
       "      <th>operating_system</th>\n",
       "      <th>language</th>\n",
       "      <th>cnt_user_engagement</th>\n",
       "      <th>cnt_level_start_quickplay</th>\n",
       "      <th>cnt_level_end_quickplay</th>\n",
       "      <th>cnt_level_complete_quickplay</th>\n",
       "      <th>cnt_level_reset_quickplay</th>\n",
       "      <th>cnt_post_score</th>\n",
       "      <th>cnt_spend_virtual_currency</th>\n",
       "      <th>cnt_ad_reward</th>\n",
       "      <th>cnt_challenge_a_friend</th>\n",
       "      <th>cnt_completed_5_levels</th>\n",
       "      <th>cnt_use_extra_steps</th>\n",
       "      <th>user_first_engagement</th>\n",
       "      <th>churned</th>\n",
       "    </tr>\n",
       "  </thead>\n",
       "  <tbody>\n",
       "    <tr>\n",
       "      <th>0</th>\n",
       "      <td>654F30C1312F6C1A26DFDA9F076A62D8</td>\n",
       "      <td>United States</td>\n",
       "      <td>ANDROID</td>\n",
       "      <td>en-us</td>\n",
       "      <td>67</td>\n",
       "      <td>17</td>\n",
       "      <td>14</td>\n",
       "      <td>3</td>\n",
       "      <td>0</td>\n",
       "      <td>3</td>\n",
       "      <td>0</td>\n",
       "      <td>0</td>\n",
       "      <td>0</td>\n",
       "      <td>0</td>\n",
       "      <td>0</td>\n",
       "      <td>1530589653126001</td>\n",
       "      <td>0</td>\n",
       "    </tr>\n",
       "    <tr>\n",
       "      <th>1</th>\n",
       "      <td>0373DF7959F6867CDFB1C905D39CE67C</td>\n",
       "      <td>United States</td>\n",
       "      <td>ANDROID</td>\n",
       "      <td>en-us</td>\n",
       "      <td>131</td>\n",
       "      <td>4</td>\n",
       "      <td>1</td>\n",
       "      <td>1</td>\n",
       "      <td>3</td>\n",
       "      <td>31</td>\n",
       "      <td>10</td>\n",
       "      <td>0</td>\n",
       "      <td>0</td>\n",
       "      <td>1</td>\n",
       "      <td>10</td>\n",
       "      <td>1529565397802010</td>\n",
       "      <td>0</td>\n",
       "    </tr>\n",
       "    <tr>\n",
       "      <th>2</th>\n",
       "      <td>3EF8FC940E379D53BBD3FEFDAF626BB2</td>\n",
       "      <td>Japan</td>\n",
       "      <td>ANDROID</td>\n",
       "      <td>ja-jp</td>\n",
       "      <td>32</td>\n",
       "      <td>11</td>\n",
       "      <td>8</td>\n",
       "      <td>3</td>\n",
       "      <td>1</td>\n",
       "      <td>3</td>\n",
       "      <td>0</td>\n",
       "      <td>0</td>\n",
       "      <td>0</td>\n",
       "      <td>0</td>\n",
       "      <td>0</td>\n",
       "      <td>1528800580725002</td>\n",
       "      <td>0</td>\n",
       "    </tr>\n",
       "    <tr>\n",
       "      <th>3</th>\n",
       "      <td>E2D6E7FE36B7CDD0789CC8F03CC747E0</td>\n",
       "      <td>United States</td>\n",
       "      <td>ANDROID</td>\n",
       "      <td>en-us</td>\n",
       "      <td>62</td>\n",
       "      <td>7</td>\n",
       "      <td>6</td>\n",
       "      <td>1</td>\n",
       "      <td>0</td>\n",
       "      <td>6</td>\n",
       "      <td>0</td>\n",
       "      <td>0</td>\n",
       "      <td>0</td>\n",
       "      <td>1</td>\n",
       "      <td>0</td>\n",
       "      <td>1530584657063001</td>\n",
       "      <td>1</td>\n",
       "    </tr>\n",
       "    <tr>\n",
       "      <th>4</th>\n",
       "      <td>7D613AF4DA0F508C7090E96FD73B7E6D</td>\n",
       "      <td>United States</td>\n",
       "      <td>ANDROID</td>\n",
       "      <td>en-us</td>\n",
       "      <td>5</td>\n",
       "      <td>6</td>\n",
       "      <td>1</td>\n",
       "      <td>0</td>\n",
       "      <td>4</td>\n",
       "      <td>4</td>\n",
       "      <td>0</td>\n",
       "      <td>0</td>\n",
       "      <td>0</td>\n",
       "      <td>0</td>\n",
       "      <td>0</td>\n",
       "      <td>1530244489173004</td>\n",
       "      <td>0</td>\n",
       "    </tr>\n",
       "  </tbody>\n",
       "</table>\n",
       "</div>"
      ],
      "text/plain": [
       "                     user_pseudo_id        country operating_system language  \\\n",
       "0  654F30C1312F6C1A26DFDA9F076A62D8  United States          ANDROID    en-us   \n",
       "1  0373DF7959F6867CDFB1C905D39CE67C  United States          ANDROID    en-us   \n",
       "2  3EF8FC940E379D53BBD3FEFDAF626BB2          Japan          ANDROID    ja-jp   \n",
       "3  E2D6E7FE36B7CDD0789CC8F03CC747E0  United States          ANDROID    en-us   \n",
       "4  7D613AF4DA0F508C7090E96FD73B7E6D  United States          ANDROID    en-us   \n",
       "\n",
       "   cnt_user_engagement  cnt_level_start_quickplay  cnt_level_end_quickplay  \\\n",
       "0                   67                         17                       14   \n",
       "1                  131                          4                        1   \n",
       "2                   32                         11                        8   \n",
       "3                   62                          7                        6   \n",
       "4                    5                          6                        1   \n",
       "\n",
       "   cnt_level_complete_quickplay  cnt_level_reset_quickplay  cnt_post_score  \\\n",
       "0                             3                          0               3   \n",
       "1                             1                          3              31   \n",
       "2                             3                          1               3   \n",
       "3                             1                          0               6   \n",
       "4                             0                          4               4   \n",
       "\n",
       "   cnt_spend_virtual_currency  cnt_ad_reward  cnt_challenge_a_friend  \\\n",
       "0                           0              0                       0   \n",
       "1                          10              0                       0   \n",
       "2                           0              0                       0   \n",
       "3                           0              0                       0   \n",
       "4                           0              0                       0   \n",
       "\n",
       "   cnt_completed_5_levels  cnt_use_extra_steps  user_first_engagement  churned  \n",
       "0                       0                    0       1530589653126001        0  \n",
       "1                       1                   10       1529565397802010        0  \n",
       "2                       0                    0       1528800580725002        0  \n",
       "3                       1                    0       1530584657063001        1  \n",
       "4                       0                    0       1530244489173004        0  "
      ]
     },
     "execution_count": 3,
     "metadata": {},
     "output_type": "execute_result"
    }
   ],
   "source": [
    "query = f\"\"\"SELECT * FROM `{dataset_name}.cc_train_dataset`\"\"\"\n",
    "job = client.query(query)\n",
    "df = job.to_dataframe()\n",
    "df.head()"
   ]
  },
  {
   "cell_type": "code",
   "execution_count": 4,
   "id": "dfd30813-76c3-4b69-8e71-3ec148ab9065",
   "metadata": {
    "id": "dfd30813-76c3-4b69-8e71-3ec148ab9065"
   },
   "outputs": [
    {
     "data": {
      "text/plain": [
       "<AxesSubplot:ylabel='operating_system'>"
      ]
     },
     "execution_count": 4,
     "metadata": {},
     "output_type": "execute_result"
    },
    {
     "data": {
      "image/png": "[encoded data removed]",
      "text/plain": [
       "<Figure size 432x288 with 2 Axes>"
      ]
     },
     "metadata": {},
     "output_type": "display_data"
    }
   ],
   "source": [
    "import matplotlib.pyplot as plt\n",
    "\n",
    "fig, axes = plt.subplots(nrows=1, ncols=2)\n",
    "plt.subplots_adjust(right=2.0)\n",
    "\n",
    "# which country do users belong to?\n",
    "df.country.value_counts(sort=True)[:5].plot(kind='pie',ax=axes[0])\n",
    "# which operating system is widely used? \n",
    "df.operating_system.value_counts().plot(kind='pie', ax=axes[1])"
   ]
  },
  {
   "cell_type": "code",
   "execution_count": 5,
   "id": "c0e57848-c796-41f0-a410-541b9a8bc962",
   "metadata": {
    "id": "c0e57848-c796-41f0-a410-541b9a8bc962"
   },
   "outputs": [
    {
     "data": {
      "text/plain": [
       "<AxesSubplot:ylabel='churned'>"
      ]
     },
     "execution_count": 5,
     "metadata": {},
     "output_type": "execute_result"
    },
    {
     "data": {
      "image/png": "[encoded data removed]",
      "text/plain": [
       "<Figure size 432x288 with 1 Axes>"
      ]
     },
     "metadata": {},
     "output_type": "display_data"
    }
   ],
   "source": [
    "# How many users churned?\n",
    "df.churned.value_counts().plot(kind='pie')"
   ]
  },
  {
   "cell_type": "markdown",
   "id": "433e28c9-cd11-418b-8731-61ba2f61660c",
   "metadata": {
    "id": "433e28c9-cd11-418b-8731-61ba2f61660c"
   },
   "source": [
    "## **Step 3:** Train Propensity Churn Model"
   ]
  },
  {
   "cell_type": "code",
   "execution_count": 9,
   "id": "6e24f0f5-c993-469a-b344-e9497b6bd825",
   "metadata": {},
   "outputs": [
    {
     "data": {
      "text/plain": [
       "QueryJob<project=jp-sandbox-359611, location=US, id=ee7993f5-e99e-41f3-9b34-08e6c30467e3>"
      ]
     },
     "execution_count": 9,
     "metadata": {},
     "output_type": "execute_result"
    }
   ],
   "source": [
    "query = \"\"\"\n",
    "    CREATE OR REPLACE MODEL `jp-sandbox-359611.data_journey_elt.customer_churn_1_v2`\n",
    "  \n",
    "    OPTIONS(MODEL_TYPE='BOOSTED_TREE_CLASSIFIER',\n",
    "           INPUT_LABEL_COLS = ['churned'],\n",
    "           AUTO_CLASS_WEIGHTS=TRUE,\n",
    "           DATA_SPLIT_METHOD='NO_SPLIT',\n",
    "           ENABLE_GLOBAL_EXPLAIN=TRUE,\n",
    "           model_registry=\"vertex_ai\",\n",
    "           vertex_ai_model_id=\"customer_churn_1\",\n",
    "           vertex_ai_model_version_aliases=[\"test-version\"])\n",
    "    AS\n",
    "    SELECT *\n",
    "    FROM `jp-sandbox-359611.data_journey_elt.cc_train_dataset`\n",
    "    \n",
    "    \"\"\"\n",
    "client.query(query)"
   ]
  },
  {
   "cell_type": "markdown",
   "id": "cb361faf-1139-44d2-b6d4-a233eaf57311",
   "metadata": {},
   "source": [
    "### **Feature Engineering**: How about we create new features from the **user_first_engagement** timestamp field?"
   ]
  },
  {
   "cell_type": "markdown",
   "id": "f74bb3ea-a98c-4b30-8c66-d66e85838b5b",
   "metadata": {},
   "source": [
    "Let's use the [TRANSFORM](https://cloud.google.com/bigquery-ml/docs/bigqueryml-transform) method in BigQuery ML to extract month, day of year, day of week and hour from the **user_first_enagagement** field. \n",
    "\n",
    "Using the TRANSFORM clause, you can specify all preprocessing during model creation. The preprocessing is **automatically** applied during the prediction and evaluation phases of machine learning 😎"
   ]
  },
  {
   "cell_type": "code",
   "execution_count": 10,
   "id": "692ba820-a3fe-4e41-b90f-7d8d5e868576",
   "metadata": {},
   "outputs": [
    {
     "data": {
      "text/plain": [
       "QueryJob<project=jp-sandbox-359611, location=US, id=b0170eeb-2c5f-4089-8880-c6954288f5c7>"
      ]
     },
     "execution_count": 10,
     "metadata": {},
     "output_type": "execute_result"
    }
   ],
   "source": [
    "query = \"\"\"\n",
    "    CREATE OR REPLACE MODEL `jp-sandbox-359611.data_journey_elt.customer_churn_2_v2`\n",
    " \n",
    "    TRANSFORM(\n",
    "     EXTRACT(MONTH from TIMESTAMP_MICROS(user_first_engagement)) as month,\n",
    "     EXTRACT(DAYOFYEAR from TIMESTAMP_MICROS(user_first_engagement)) as julianday,\n",
    "     EXTRACT(DAYOFWEEK from TIMESTAMP_MICROS(user_first_engagement)) as dayofweek,\n",
    "     EXTRACT(HOUR from TIMESTAMP_MICROS(user_first_engagement)) as hour,\n",
    "     * EXCEPT(user_first_engagement, user_pseudo_id)\n",
    "    )\n",
    " \n",
    "    OPTIONS(MODEL_TYPE='BOOSTED_TREE_CLASSIFIER',\n",
    "           INPUT_LABEL_COLS = ['churned'],\n",
    "           AUTO_CLASS_WEIGHTS=TRUE,\n",
    "           DATA_SPLIT_METHOD='NO_SPLIT',\n",
    "           ENABLE_GLOBAL_EXPLAIN=TRUE,\n",
    "           model_registry=\"vertex_ai\",\n",
    "           vertex_ai_model_id=\"customer_churn_2\",\n",
    "           vertex_ai_model_version_aliases=[\"test-version\"]\n",
    "           )\n",
    "    AS\n",
    "    SELECT *\n",
    "    FROM `jp-sandbox-359611.data_journey_elt.cc_train_dataset`\n",
    "    \n",
    "    \"\"\"\n",
    "client.query(query)"
   ]
  },
  {
   "cell_type": "code",
   "execution_count": null,
   "id": "68f45d5a-4bc0-49dd-8730-3a23e5d65afb",
   "metadata": {},
   "outputs": [],
   "source": []
  }
 ],
 "metadata": {
  "colab": {
   "collapsed_sections": [],
   "provenance": []
  },
  "kernelspec": {
   "display_name": "Python 3 (ipykernel)",
   "language": "python",
   "name": "python3"
  },
  "language_info": {
   "codemirror_mode": {
    "name": "ipython",
    "version": 3
   },
   "file_extension": ".py",
   "mimetype": "text/x-python",
   "name": "python",
   "nbconvert_exporter": "python",
   "pygments_lexer": "ipython3",
   "version": "3.7.12"
  }
 },
 "nbformat": 4,
 "nbformat_minor": 5
}
