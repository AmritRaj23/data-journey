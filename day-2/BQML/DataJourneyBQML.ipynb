{
 "cells": [
  {
   "cell_type": "markdown",
   "id": "6693e950-502b-4f4e-aaac-34b44b015bff",
   "metadata": {
    "id": "6693e950-502b-4f4e-aaac-34b44b015bff"
   },
   "source": [
    "# Data Journey Day 2: BigQuery ML\n",
    "\n",
    "<table align=\"left\">\n",
    "\n",
    "  <td>\n",
    "    <a href=\"https://github.com/AmritRaj23/data-journey/blob/main/day-1/ELT%20(Extract%20Load%20Transform)/DataJourney_elt.ipynb\">\n",
    "      <img src=\"https://cloud.google.com/ml-engine/images/github-logo-32px.png\" alt=\"GitHub logo\">\n",
    "      View on GitHub\n",
    "    </a>\n",
    "  </td>\n",
    "  <td>\n",
    "    <a href=\"https://console.cloud.google.com/vertex-ai/workbench/deploy-notebook?download_url=https://github.com/AmritRaj23/data-journey/blob/main/day-1/ELT%20(Extract%20Load%20Transform)/DataJourney_elt.ipynb\">\n",
    "      <img src=\"https://lh3.googleusercontent.com/UiNooY4LUgW_oTvpsNhPpQzsstV5W8F7rYgxgGBD85cWJoLmrOzhVs_ksK_vgx40SHs7jCqkTkCk=e14-rj-sc0xffffff-h130-w32\" alt=\"Vertex AI logo\">\n",
    "      Open in Vertex AI Workbench\n",
    "     </a>\n",
    "  </td>\n",
    "</table>\n",
    "</table>\n",
    "<br/><br/><br/>\n",
    "\n",
    "\n",
    "In this Notebook we make use of GCPs BigQuery ML capabilities to train machine learning models in only a few lines of SQL syntax."
   ]
  },
  {
   "cell_type": "markdown",
   "id": "101df100-8730-4286-9a02-2819e1e0855c",
   "metadata": {
    "id": "101df100-8730-4286-9a02-2819e1e0855c"
   },
   "source": [
    "### **Step 1:** Preparation and Authentication\n",
    "Set the right parameters and authenticate your user. "
   ]
  },
  {
   "cell_type": "code",
   "execution_count": null,
   "id": "988eb9c8-1d06-4c2f-8947-2a843177201b",
   "metadata": {
    "id": "988eb9c8-1d06-4c2f-8947-2a843177201b"
   },
   "outputs": [],
   "source": [
    "project_id = \"<project-id>\"\n",
    "location   = \"<location>\" #This is currently necessary\n",
    "dataset_name = \"<dataset-name>\""
   ]
  },
  {
   "cell_type": "code",
   "execution_count": null,
   "id": "209ec9e2-e26c-4f02-84ec-206bcb1a3fcb",
   "metadata": {
    "id": "209ec9e2-e26c-4f02-84ec-206bcb1a3fcb"
   },
   "outputs": [],
   "source": [
    "from google.cloud import bigquery\n",
    "from google.cloud.bigquery import Client, QueryJobConfig\n",
    "\n",
    "client = bigquery.Client(project=project_id)"
   ]
  },
  {
   "cell_type": "markdown",
   "id": "6e5c5c9c-fb4e-41b0-8d32-0579f3a1aa18",
   "metadata": {},
   "source": [
    "### **Step 2:** Create ML training dataset"
   ]
  },
  {
   "cell_type": "code",
   "execution_count": null,
   "id": "85126dea-bfef-442a-bbfc-d3ba5ecfb3fb",
   "metadata": {},
   "outputs": [],
   "source": [
    "training_dataset = 'cc_train_dataset'\n",
    "\n",
    "view_id  = \"{}.{}.{}\".format(project_id, dataset_name, training_dataset)\n",
    "view     = bigquery.Table(view_id)\n",
    "\n",
    "view.view_query = f\"\"\"\n",
    "  \n",
    "  SELECT\n",
    "    dem.*,\n",
    "    IFNULL(beh.cnt_user_engagement, 0) AS cnt_user_engagement,\n",
    "    IFNULL(beh.cnt_level_start_quickplay, 0) AS cnt_level_start_quickplay,\n",
    "    IFNULL(beh.cnt_level_end_quickplay, 0) AS cnt_level_end_quickplay,\n",
    "    IFNULL(beh.cnt_level_complete_quickplay, 0) AS cnt_level_complete_quickplay,\n",
    "    IFNULL(beh.cnt_level_reset_quickplay, 0) AS cnt_level_reset_quickplay,\n",
    "    IFNULL(beh.cnt_post_score, 0) AS cnt_post_score,\n",
    "    IFNULL(beh.cnt_spend_virtual_currency, 0) AS cnt_spend_virtual_currency,\n",
    "    IFNULL(beh.cnt_ad_reward, 0) AS cnt_ad_reward,\n",
    "    IFNULL(beh.cnt_challenge_a_friend, 0) AS cnt_challenge_a_friend,\n",
    "    IFNULL(beh.cnt_completed_5_levels, 0) AS cnt_completed_5_levels,\n",
    "    IFNULL(beh.cnt_use_extra_steps, 0) AS cnt_use_extra_steps,\n",
    "    ret.user_first_engagement,\n",
    "    ret.churned\n",
    "  FROM\n",
    "    {dataset_name}.user_returninginfo ret\n",
    "  LEFT OUTER JOIN\n",
    "    {dataset_name}.user_demographics dem\n",
    "  ON \n",
    "    ret.user_pseudo_id = dem.user_pseudo_id\n",
    "  LEFT OUTER JOIN \n",
    "    {dataset_name}.user_aggregate_behaviour beh\n",
    "  ON\n",
    "    ret.user_pseudo_id = beh.user_pseudo_id\n",
    "  WHERE ret.bounced = 0\n",
    "  LIMIT 2000 \n",
    "\"\"\"\n",
    "\n",
    "# Create the view\n",
    "view = client.create_table(view, exists_ok=True)\n",
    "print(f\"Created {view.table_type}: {str(view.reference)}\")"
   ]
  },
  {
   "cell_type": "markdown",
   "id": "1jjaJyFyG00m",
   "metadata": {
    "id": "1jjaJyFyG00m"
   },
   "source": [
    "### **Step 3:** Data Exploration\n",
    "Get a feeling of the data and explore different facets and features"
   ]
  },
  {
   "cell_type": "markdown",
   "id": "4dc1d19a-e397-401d-85b8-5e3f7a441e7f",
   "metadata": {
    "id": "4dc1d19a-e397-401d-85b8-5e3f7a441e7f"
   },
   "source": [
    "To remember: This is how the final training dataset looks like\n",
    "\n",
    "| User Demographic Data | User Behavioral Data | Label \n",
    "| --- | --- | --- |\n",
    "| country | cnt_user_engagement | churned\n",
    "| operating_system | cnt_level_start_quickplay |  |\n",
    "| language | cnt_level_end_quickplay |  |\n",
    "|  |  cnt_level_complete_quickplay |  |\n",
    "|  |  cnt_level_reset_quickplay |  |\n",
    "|  |  cnt_post_score |  |\n",
    "|  |  cnt_spend_virtual_currency |  |\n",
    "|  |  cnt_ad_reward |  |\n",
    "|  |  cnt_challenge_a_friend |  |\n",
    "|  |  cnt_completed_5_levels |  |\n",
    "|  |  cnt_use_extra_steps |  |\n",
    "|  |  user_first_engagement |  | **bold text**"
   ]
  },
  {
   "cell_type": "code",
   "execution_count": null,
   "id": "cf4e64a1-44d3-45ef-b310-5194d987a7c1",
   "metadata": {
    "id": "cf4e64a1-44d3-45ef-b310-5194d987a7c1"
   },
   "outputs": [],
   "source": [
    "query = f\"\"\"SELECT * FROM `{dataset_name}.{training_dataset}`\"\"\"\n",
    "job = client.query(query)\n",
    "df = job.to_dataframe()\n",
    "df.head()"
   ]
  },
  {
   "cell_type": "code",
   "execution_count": null,
   "id": "dfd30813-76c3-4b69-8e71-3ec148ab9065",
   "metadata": {
    "id": "dfd30813-76c3-4b69-8e71-3ec148ab9065"
   },
   "outputs": [],
   "source": [
    "import matplotlib.pyplot as plt\n",
    "\n",
    "fig, axes = plt.subplots(nrows=1, ncols=2)\n",
    "plt.subplots_adjust(right=2.0)\n",
    "\n",
    "# which country do users belong to?\n",
    "df.country.value_counts(sort=True)[:5].plot(kind='pie',ax=axes[0])\n",
    "# which operating system is widely used? \n",
    "df.operating_system.value_counts().plot(kind='pie', ax=axes[1])"
   ]
  },
  {
   "cell_type": "code",
   "execution_count": null,
   "id": "c0e57848-c796-41f0-a410-541b9a8bc962",
   "metadata": {
    "id": "c0e57848-c796-41f0-a410-541b9a8bc962"
   },
   "outputs": [],
   "source": [
    "# How many users churned?\n",
    "df.churned.value_counts().plot(kind='pie')"
   ]
  },
  {
   "cell_type": "markdown",
   "id": "433e28c9-cd11-418b-8731-61ba2f61660c",
   "metadata": {
    "id": "433e28c9-cd11-418b-8731-61ba2f61660c"
   },
   "source": [
    "### **Step 4:** Train Propensity Churn Model"
   ]
  },
  {
   "cell_type": "code",
   "execution_count": null,
   "id": "6e24f0f5-c993-469a-b344-e9497b6bd825",
   "metadata": {},
   "outputs": [],
   "source": [
    "model_name = 'model_3'\n",
    "\n",
    "query = f\"\"\"\n",
    "    CREATE OR REPLACE MODEL `{project_id}.{dataset_name}.{model_name}`\n",
    "  \n",
    "    OPTIONS(MODEL_TYPE='BOOSTED_TREE_CLASSIFIER',\n",
    "           INPUT_LABEL_COLS = ['churned'],\n",
    "           AUTO_CLASS_WEIGHTS=TRUE,\n",
    "           DATA_SPLIT_METHOD='NO_SPLIT',\n",
    "           ENABLE_GLOBAL_EXPLAIN=TRUE,\n",
    "           model_registry=\"vertex_ai\",\n",
    "           vertex_ai_model_id=\"customer_churn_1\",\n",
    "           vertex_ai_model_version_aliases=[\"test-version\"])\n",
    "    AS\n",
    "    SELECT *\n",
    "    FROM `{project_id}.{dataset_name}.{training_dataset}`\n",
    "    \"\"\"\n",
    "client.query(query)"
   ]
  },
  {
   "cell_type": "markdown",
   "id": "cb361faf-1139-44d2-b6d4-a233eaf57311",
   "metadata": {},
   "source": [
    "### **Feature Engineering**: How about we create new features from the **user_first_engagement** timestamp field?"
   ]
  },
  {
   "cell_type": "markdown",
   "id": "f74bb3ea-a98c-4b30-8c66-d66e85838b5b",
   "metadata": {},
   "source": [
    "Let's use the [TRANSFORM](https://cloud.google.com/bigquery-ml/docs/bigqueryml-transform) method in BigQuery ML to extract month, day of year, day of week and hour from the **user_first_enagagement** field. \n",
    "\n",
    "Using the TRANSFORM clause, you can specify all preprocessing during model creation. The preprocessing is **automatically** applied during the prediction and evaluation phases of machine learning 😎"
   ]
  },
  {
   "cell_type": "code",
   "execution_count": null,
   "id": "692ba820-a3fe-4e41-b90f-7d8d5e868576",
   "metadata": {},
   "outputs": [],
   "source": [
    "query = \"\"\"\n",
    "    CREATE OR REPLACE MODEL `<project-id>.<dataset-name>.<model-name>`\n",
    " \n",
    "    TRANSFORM(\n",
    "     EXTRACT(MONTH from TIMESTAMP_MICROS(user_first_engagement)) as month,\n",
    "     EXTRACT(DAYOFYEAR from TIMESTAMP_MICROS(user_first_engagement)) as julianday,\n",
    "     EXTRACT(DAYOFWEEK from TIMESTAMP_MICROS(user_first_engagement)) as dayofweek,\n",
    "     EXTRACT(HOUR from TIMESTAMP_MICROS(user_first_engagement)) as hour,\n",
    "     * EXCEPT(user_first_engagement, user_pseudo_id)\n",
    "    )\n",
    " \n",
    "    OPTIONS(MODEL_TYPE='BOOSTED_TREE_CLASSIFIER',\n",
    "           INPUT_LABEL_COLS = ['churned'],\n",
    "           AUTO_CLASS_WEIGHTS=TRUE,\n",
    "           DATA_SPLIT_METHOD='NO_SPLIT',\n",
    "           ENABLE_GLOBAL_EXPLAIN=TRUE,\n",
    "           model_registry=\"vertex_ai\",\n",
    "           vertex_ai_model_id=\"customer_churn_2\",\n",
    "           vertex_ai_model_version_aliases=[\"test-version\"]\n",
    "           )\n",
    "    AS\n",
    "    SELECT *\n",
    "    FROM `<project-id>.<dataset-name>.<train-dataset-table>`\n",
    "    \n",
    "    \"\"\"\n",
    "client.query(query)"
   ]
  },
  {
   "cell_type": "code",
   "execution_count": null,
   "id": "68f45d5a-4bc0-49dd-8730-3a23e5d65afb",
   "metadata": {},
   "outputs": [],
   "source": []
  }
 ],
 "metadata": {
  "colab": {
   "collapsed_sections": [],
   "provenance": []
  },
  "kernelspec": {
   "display_name": "Python 3 (ipykernel)",
   "language": "python",
   "name": "python3"
  },
  "language_info": {
   "codemirror_mode": {
    "name": "ipython",
    "version": 3
   },
   "file_extension": ".py",
   "mimetype": "text/x-python",
   "name": "python",
   "nbconvert_exporter": "python",
   "pygments_lexer": "ipython3",
   "version": "3.7.12"
  }
 },
 "nbformat": 4,
 "nbformat_minor": 5
}
